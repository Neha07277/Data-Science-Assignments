{
 "cells": [
  {
   "cell_type": "code",
   "execution_count": 11,
   "id": "f6d16c02",
   "metadata": {},
   "outputs": [],
   "source": [
    "import pandas as pd\n",
    "import numpy  as np\n",
    "import matplotlib.pyplot as plt\n",
    "import scipy.stats as stats\n",
    "import seaborn as sns\n",
    "import warnings\n",
    "warnings.filterwarnings('ignore')"
   ]
  },
  {
   "cell_type": "markdown",
   "id": "e0e268de",
   "metadata": {},
   "source": [
    "# SET 4"
   ]
  },
  {
   "cell_type": "markdown",
   "id": "8295a1b3",
   "metadata": {},
   "source": [
    "## Question 3"
   ]
  },
  {
   "cell_type": "code",
   "execution_count": 14,
   "id": "5a2772da",
   "metadata": {},
   "outputs": [
    {
     "name": "stdout",
     "output_type": "stream",
     "text": [
      "The probability that in any  given week, there  will  be an investigation is  21.4 %\n"
     ]
    }
   ],
   "source": [
    "mean =  50\n",
    "std = 40\n",
    "n = 100 \n",
    "d_f = 100-1  # degree of freedom (n-1) \n",
    "\n",
    "# the probability that will be there  in an investigation, if the mean \n",
    "# transactions amount increases mre than 55 USD or less than 45 USD then there\n",
    "# will be no investigation . if mean transcation amount reamins between 45 to 55\n",
    "# USD then we will go for t-distribution as population standard deviation is\n",
    "# unknown\n",
    "\n",
    "t_fortyfive = (45-50)/(40/np.sqrt(100))\n",
    "t_fiftyfive = (55-50)/(40/np.sqrt(100))\n",
    "\n",
    "fortyfive = stats.t.cdf(t_fortyfive, d_f)\n",
    "fiftyfive = stats.t.cdf(t_fiftyfive, d_f)\n",
    "\n",
    "prob = fiftyfive - fortyfive\n",
    "np.round(stats.t.interval(alpha = prob, df = d_f,loc = mean, scale = std/np.sqrt(n)),)\n",
    "\n",
    "print('The probability that in any  given week, there  will  be an investigation is ', np.round((1-prob)*100,1),'%')"
   ]
  },
  {
   "cell_type": "code",
   "execution_count": 16,
   "id": "a2dfde6f",
   "metadata": {},
   "outputs": [
    {
     "name": "stdout",
     "output_type": "stream",
     "text": [
      "The Auditors would like to maintain the probability of investigation to 5%, they should sample 248.0 transactions if they do not want to change the thresholds of 45 to 55 \n",
      "248.3776 247.3776\n"
     ]
    },
    {
     "data": {
      "text/plain": [
       "array([45., 55.])"
      ]
     },
     "execution_count": 16,
     "metadata": {},
     "output_type": "execute_result"
    }
   ],
   "source": [
    "x = 45\n",
    "std = 40\n",
    "mew = 50\n",
    "\n",
    "t= np.round(stats.t.ppf(0.025, df = 249),2)\n",
    "t\n",
    "\n",
    "n = ((std*abs(t))/(5))**2\n",
    "print('The Auditors would like to maintain the probability of investigation to 5%, they should sample', np.round(n,),'transactions if they do not want to change the thresholds of 45 to 55 ')\n",
    "\n",
    "df = n-1\n",
    "print(n,df)\n",
    "\n",
    "np.round(stats.t.interval(alpha = 0.95, df =df , loc = mew, scale = std/np.sqrt(n)),)"
   ]
  },
  {
   "cell_type": "code",
   "execution_count": null,
   "id": "dceb737e",
   "metadata": {},
   "outputs": [],
   "source": []
  }
 ],
 "metadata": {
  "kernelspec": {
   "display_name": "Python 3 (ipykernel)",
   "language": "python",
   "name": "python3"
  },
  "language_info": {
   "codemirror_mode": {
    "name": "ipython",
    "version": 3
   },
   "file_extension": ".py",
   "mimetype": "text/x-python",
   "name": "python",
   "nbconvert_exporter": "python",
   "pygments_lexer": "ipython3",
   "version": "3.11.3"
  }
 },
 "nbformat": 4,
 "nbformat_minor": 5
}
