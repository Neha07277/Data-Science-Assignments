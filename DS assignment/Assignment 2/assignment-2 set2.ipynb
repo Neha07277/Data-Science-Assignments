{
 "cells": [
  {
   "cell_type": "code",
   "execution_count": 2,
   "id": "3bf9577a",
   "metadata": {},
   "outputs": [],
   "source": [
    "import pandas  as pd\n",
    "import numpy as np\n",
    "import matplotlib.pyplot as plt \n",
    "import scipy.stats as stats\n",
    "import seaborn as sns\n",
    "import warnings\n",
    "warnings.filterwarnings('ignore') "
   ]
  },
  {
   "cell_type": "markdown",
   "id": "17b4ee23",
   "metadata": {},
   "source": [
    "# SET 2"
   ]
  },
  {
   "cell_type": "markdown",
   "id": "1f1a11d9",
   "metadata": {},
   "source": [
    "## Question 1"
   ]
  },
  {
   "cell_type": "code",
   "execution_count": 10,
   "id": "2826a2c9",
   "metadata": {},
   "outputs": [],
   "source": [
    "# the serving work will began after 10 min of drop off so 45+10=55\n",
    "# which will  now take more than the usual time so new mew is 55 minutes\n",
    "# and the probability that it will take more than 1 hour to complete\n",
    "mew = 55\n",
    "std = 8\n",
    "q1 = stats.norm.sf(60, loc=mew, scale = std)\n"
   ]
  },
  {
   "cell_type": "code",
   "execution_count": 8,
   "id": "2bd144ce",
   "metadata": {},
   "outputs": [
    {
     "data": {
      "text/plain": [
       "0.26598552904870054"
      ]
     },
     "execution_count": 8,
     "metadata": {},
     "output_type": "execute_result"
    }
   ],
   "source": [
    "q1"
   ]
  },
  {
   "cell_type": "code",
   "execution_count": 9,
   "id": "2b5ac0d1",
   "metadata": {},
   "outputs": [
    {
     "name": "stdout",
     "output_type": "stream",
     "text": [
      "the Probability that the service manager cannot meet his commitment  is  0.26599\n"
     ]
    }
   ],
   "source": [
    "print(\"the Probability that the service manager cannot meet his commitment  is \"  , np.round(q1,5))\n"
   ]
  },
  {
   "cell_type": "markdown",
   "id": "1cdb4aaf",
   "metadata": {},
   "source": [
    "## Question 2"
   ]
  },
  {
   "cell_type": "code",
   "execution_count": 13,
   "id": "7f6d8715",
   "metadata": {},
   "outputs": [
    {
     "name": "stdout",
     "output_type": "stream",
     "text": [
      "The probability of employee age between 38 and 44 is 34.13 %\n",
      "The Probability of employee age between 38 and 44 is 34.13 %\n",
      "Answer: False\n",
      "A training program for employees under the age of 30 at the center would be expected to attract about 36.0 employees\n"
     ]
    }
   ],
   "source": [
    "mean = 38\n",
    "std1 = 6\n",
    "q2_lessthan_38 = stats.norm.cdf(38,  loc = mean, scale = std1)\n",
    "\n",
    "q2_less_than_44 = stats.norm.cdf(44, loc = mean, scale = std1)\n",
    "\n",
    "q2_between_38_and_44 = (q2_less_than_44 - q2_lessthan_38)\n",
    "print('The probability of employee age between 38 and 44 is', np.round(q2_between_38_and_44*100,2),'%')\n",
    "\n",
    "q2_morethan_44 =  (q2_less_than_44 - q2_lessthan_38 )\n",
    "print('The Probability of employee age between 38 and 44 is', np.round(q2_morethan_44*100,2 ),'%')\n",
    "\n",
    "true_or_false = (q2_morethan_44> q2_between_38_and_44)\n",
    "print('Answer:', true_or_false)\n",
    "\n",
    "q2b = stats.norm.cdf(30, loc = mean, scale = std1)\n",
    "print('A training program for employees under the age of 30 at the center would be expected to attract about', np.round((q2b*400),0),'employees')"
   ]
  },
  {
   "cell_type": "markdown",
   "id": "0d5f34b9",
   "metadata": {},
   "source": [
    "# Question 3"
   ]
  },
  {
   "cell_type": "code",
   "execution_count": null,
   "id": "98aad993",
   "metadata": {},
   "outputs": [],
   "source": []
  },
  {
   "cell_type": "code",
   "execution_count": null,
   "id": "acf2350e",
   "metadata": {},
   "outputs": [],
   "source": []
  },
  {
   "cell_type": "code",
   "execution_count": null,
   "id": "6857f251",
   "metadata": {},
   "outputs": [],
   "source": []
  },
  {
   "cell_type": "markdown",
   "id": "28fbe67d",
   "metadata": {},
   "source": [
    "# Question 4 Answer"
   ]
  },
  {
   "cell_type": "code",
   "execution_count": 23,
   "id": "2825cb61",
   "metadata": {},
   "outputs": [
    {
     "name": "stdout",
     "output_type": "stream",
     "text": [
      " The two values of a and b, symmetric about the mean, are such that the \n",
      "pprobability of the randdom variable taking a value between them is 0.99: 48.5 151.5\n"
     ]
    }
   ],
   "source": [
    "#Given:\n",
    "mew = 100\n",
    "std = 20\n",
    "#to find? \n",
    "'''Two values, a and b symmetric about the mean, such that the \n",
    "probability of the randdom variable taking a value between them is 0.99'''\n",
    "\n",
    "# Solution\n",
    "'''From the above details we have to exclude .005% area from each left and right tails. \n",
    "Hence, we want to find the .005th and the .995th percentiles z score values'''\n",
    "\n",
    "# Z value for .005 percentiles\n",
    "z_005 = np.round(stats.norm.ppf(0.005),4)\n",
    "z_005\n",
    "\n",
    "# Z value for .99 percentiles\n",
    "z_99 = np.round(stats.norm.ppf(0.995),4)\n",
    "z_99\n",
    "\n",
    "#z= (x_bar - mew) / std\n",
    "# x_bar = (z*std) + new\n",
    "a = np.round((z_005*std) + mew,1)\n",
    "b = np.round((z_99*std)+mew,1)\n",
    "print(''' The two values of a and b, symmetric about the mean, are such that the \n",
    "pprobability of the randdom variable taking a value between them is 0.99:''',  a,b)\n",
    "\n"
   ]
  },
  {
   "cell_type": "markdown",
   "id": "54a6be04",
   "metadata": {},
   "source": [
    "# Question 5 Answer"
   ]
  },
  {
   "cell_type": "markdown",
   "id": "15b22225",
   "metadata": {},
   "source": [
    "## A"
   ]
  },
  {
   "cell_type": "code",
   "execution_count": 3,
   "id": "9992a4ec",
   "metadata": {},
   "outputs": [
    {
     "name": "stdout",
     "output_type": "stream",
     "text": [
      "The Mean Profit of both division: 12 Million$\n",
      "The Mean Profit of both division: 54.0 Crore Rupees\n",
      "The standard deviation of both division 5.0 Million$\n",
      "The standard deviation of both division 22.5 Crore Rupees\n"
     ]
    }
   ],
   "source": [
    "# Combine Mean Profit of both division for Company = mean1+mean2\n",
    "mean1 = 5\n",
    "mean2 = 7\n",
    "Mean = (mean1+mean2) # 1$ = 45 Rs\n",
    "print('The Mean Profit of both division:',Mean,'Million$')\n",
    "print('The Mean Profit of both division:',(Mean*45)/10, 'Crore Rupees')\n",
    "\n",
    "\n",
    "# Combine standard deviation = (std1^2 + std2^2)^1/2\n",
    "std1 = 3**2\n",
    "std2 = 4**2\n",
    "std = np.sqrt(std1+std2)\n",
    "print('The standard deviation of both division' , std, 'Million$')\n",
    "print('The standard deviation of both division', (std*45)/10,'Crore Rupees')\n"
   ]
  },
  {
   "cell_type": "code",
   "execution_count": 5,
   "id": "b2272271",
   "metadata": {},
   "outputs": [
    {
     "name": "stdout",
     "output_type": "stream",
     "text": [
      "Rupee Ranges from 2.2 to 21.8 Million$ in Annual profit of the Company 95% of the time\n",
      "Rupee Ranges from 9.900000000000002 to 98.1 Crore Rupees in Annual proofit of the Company 95% of the time\n"
     ]
    }
   ],
   "source": [
    "r1,r2 = np.round(stats.norm.interval(0.95, Mean,std),2)\n",
    "print('Rupee Ranges from',r1, 'to', r2,'Million$ in Annual profit of the Company 95% of the time')\n",
    "print('Rupee Ranges from', np.divide(np.multiply(r1,45),10),'to', np.divide(np.multiply(r2,45),10), 'Crore Rupees in Annual proofit of the Company 95% of the time')"
   ]
  },
  {
   "cell_type": "markdown",
   "id": "1e3d196a",
   "metadata": {},
   "source": [
    "## B"
   ]
  },
  {
   "cell_type": "code",
   "execution_count": 6,
   "id": "e8837e5b",
   "metadata": {},
   "outputs": [
    {
     "name": "stdout",
     "output_type": "stream",
     "text": [
      "The 5th percentile of profit for the company is 3.78 Million$\n",
      "The 5th percentile of profit for the company is 17.0 Crore Rupees\n"
     ]
    }
   ],
   "source": [
    "# Z value = X_bar - Mew /std pop\n",
    "# for percentile, X_percentile = (Zvalue * Std pop) + Mew\n",
    "Z_05 = stats.norm.ppf(0.05)\n",
    "Fifth_percentile = (Z_05 * std) + Mean\n",
    "print('The 5th percentile of profit for the company is', np.round(Fifth_percentile,2),'Million$')\n",
    "print('The 5th percentile of profit for the company is', np.round((Fifth_percentile*45)/10),'Crore Rupees')"
   ]
  },
  {
   "cell_type": "markdown",
   "id": "bb9b0d45",
   "metadata": {},
   "source": [
    "## C"
   ]
  },
  {
   "cell_type": "code",
   "execution_count": 9,
   "id": "96759504",
   "metadata": {},
   "outputs": [
    {
     "name": "stdout",
     "output_type": "stream",
     "text": [
      "The Probability of division #1 making a loss is 4.78 %\n",
      "The probability of division #2 making a loss is 4.01 %\n",
      "The Division 1 has a larger Probability of making a loss\n"
     ]
    }
   ],
   "source": [
    "#  The probability of division #1 making a loss\n",
    "print('The Probability of division #1 making a loss is', np.round((stats.norm.cdf(0,5,3))*100,2),'%')\n",
    "\n",
    "# The probability of division #2 making a loss\n",
    "print('The probability of division #2 making a loss is', np.round((stats.norm.cdf(0,7,4))*100,2),'%')\n",
    "\n",
    "Division_1 = (stats.norm.cdf(0,5,3))*100\n",
    "Division_2 = (stats.norm.cdf(0,7,4))*100\n",
    "\n",
    "if Division_1>Division_2:\n",
    "    print('The Division 1 has a larger Probability of making a loss')\n",
    "else:\n",
    "    print('The Division 2 has a  larger Probability of making a loss')"
   ]
  },
  {
   "cell_type": "code",
   "execution_count": null,
   "id": "21c2f308",
   "metadata": {},
   "outputs": [],
   "source": []
  }
 ],
 "metadata": {
  "kernelspec": {
   "display_name": "Python 3 (ipykernel)",
   "language": "python",
   "name": "python3"
  },
  "language_info": {
   "codemirror_mode": {
    "name": "ipython",
    "version": 3
   },
   "file_extension": ".py",
   "mimetype": "text/x-python",
   "name": "python",
   "nbconvert_exporter": "python",
   "pygments_lexer": "ipython3",
   "version": "3.11.3"
  }
 },
 "nbformat": 4,
 "nbformat_minor": 5
}
